{
  "cells": [
    {
      "cell_type": "code",
      "execution_count": 319,
      "id": "H086RAoWB9bi",
      "metadata": {
        "colab": {
          "base_uri": "https://localhost:8080/"
        },
        "id": "H086RAoWB9bi",
        "outputId": "d5e26f90-9ef8-4681-c793-bdbed3ca06ea"
      },
      "outputs": [],
      "source": [
        "# from google.colab import drive\n",
        "# drive.mount('/content/drive')"
      ]
    },
    {
      "cell_type": "code",
      "execution_count": 468,
      "id": "4ec482ab",
      "metadata": {
        "id": "4ec482ab"
      },
      "outputs": [],
      "source": [
        "import pandas as pd\n",
        "import numpy as np\n",
        "import matplotlib.pyplot as plt\n",
        "from sklearn.feature_extraction.text import CountVectorizer\n",
        "from sklearn.model_selection import train_test_split\n",
        "from sklearn.ensemble import RandomForestClassifier\n",
        "from sklearn.linear_model import LogisticRegression\n",
        "from sklearn.tree import DecisionTreeClassifier\n",
        "from sklearn.ensemble import AdaBoostClassifier\n",
        "from sklearn import metrics\n",
        "from sklearn.metrics import confusion_matrix, classification_report, accuracy_score\n",
        "from tqdm import tqdm\n",
        "import warnings\n",
        "from memory_profiler import memory_usage\n",
        "import time\n",
        "\n",
        "warnings.filterwarnings('ignore')\n",
        "\n",
        "import pickle"
      ]
    },
    {
      "cell_type": "code",
      "execution_count": 469,
      "id": "8ab0241d",
      "metadata": {
        "colab": {
          "base_uri": "https://localhost:8080/"
        },
        "id": "8ab0241d",
        "outputId": "78037aa4-cf8f-4c35-9a21-c80fd129480e"
      },
      "outputs": [
        {
          "name": "stderr",
          "output_type": "stream",
          "text": [
            "[nltk_data] Downloading package stopwords to\n",
            "[nltk_data]     C:\\Users\\Win10\\AppData\\Roaming\\nltk_data...\n",
            "[nltk_data]   Package stopwords is already up-to-date!\n"
          ]
        }
      ],
      "source": [
        "import re #regular expression\n",
        "import nltk #natural language toolkit\n",
        "nltk.download('stopwords')\n",
        "from nltk.util import pr #prints a sequence of items from starting point to ending point\n",
        "stemmer = nltk.SnowballStemmer(\"english\") # a stemmer is a function that produces variants of a root word, and a SnowballStemmer specifies the language in which it does that.\n",
        "import string\n",
        "from nltk.corpus import stopwords #stopwords are words that a search engine ignores eg. the, a, an, in, etc.\n",
        "stopword=set(stopwords.words(\"english\"))\n",
        "from nltk.tokenize import TweetTokenizer"
      ]
    },
    {
      "cell_type": "code",
      "execution_count": 470,
      "id": "774553c6",
      "metadata": {},
      "outputs": [],
      "source": [
        "from keras.preprocessing.text import Tokenizer\n",
        "from tensorflow.keras.preprocessing.sequence import pad_sequences\n",
        "from keras.models import Sequential\n",
        "from keras.layers import Dense, Dropout, Embedding, LSTM, GlobalMaxPooling1D, SpatialDropout1D\n",
        "from keras.utils.np_utils import to_categorical\n",
        "import tensorflow as tf"
      ]
    },
    {
      "cell_type": "markdown",
      "id": "c531f763",
      "metadata": {
        "id": "c531f763"
      },
      "source": [
        "## Exploring the data"
      ]
    },
    {
      "cell_type": "code",
      "execution_count": 471,
      "id": "23b4a696",
      "metadata": {
        "id": "23b4a696"
      },
      "outputs": [],
      "source": [
        "df = pd.read_csv('data/labeled_data.csv')"
      ]
    },
    {
      "cell_type": "code",
      "execution_count": 472,
      "id": "cdef5cda",
      "metadata": {
        "colab": {
          "base_uri": "https://localhost:8080/",
          "height": 206
        },
        "id": "cdef5cda",
        "outputId": "132c9265-917b-404e-f999-e3d3a222c8a4"
      },
      "outputs": [
        {
          "data": {
            "text/html": [
              "<div>\n",
              "<style scoped>\n",
              "    .dataframe tbody tr th:only-of-type {\n",
              "        vertical-align: middle;\n",
              "    }\n",
              "\n",
              "    .dataframe tbody tr th {\n",
              "        vertical-align: top;\n",
              "    }\n",
              "\n",
              "    .dataframe thead th {\n",
              "        text-align: right;\n",
              "    }\n",
              "</style>\n",
              "<table border=\"1\" class=\"dataframe\">\n",
              "  <thead>\n",
              "    <tr style=\"text-align: right;\">\n",
              "      <th></th>\n",
              "      <th>class</th>\n",
              "      <th>tweet</th>\n",
              "    </tr>\n",
              "  </thead>\n",
              "  <tbody>\n",
              "    <tr>\n",
              "      <th>0</th>\n",
              "      <td>2</td>\n",
              "      <td>!!! RT @mayasolovely: As a woman you shouldn't...</td>\n",
              "    </tr>\n",
              "    <tr>\n",
              "      <th>1</th>\n",
              "      <td>1</td>\n",
              "      <td>!!!!! RT @mleew17: boy dats cold...tyga dwn ba...</td>\n",
              "    </tr>\n",
              "    <tr>\n",
              "      <th>2</th>\n",
              "      <td>1</td>\n",
              "      <td>!!!!!!! RT @UrKindOfBrand Dawg!!!! RT @80sbaby...</td>\n",
              "    </tr>\n",
              "    <tr>\n",
              "      <th>3</th>\n",
              "      <td>1</td>\n",
              "      <td>!!!!!!!!! RT @C_G_Anderson: @viva_based she lo...</td>\n",
              "    </tr>\n",
              "    <tr>\n",
              "      <th>4</th>\n",
              "      <td>1</td>\n",
              "      <td>!!!!!!!!!!!!! RT @ShenikaRoberts: The shit you...</td>\n",
              "    </tr>\n",
              "  </tbody>\n",
              "</table>\n",
              "</div>"
            ],
            "text/plain": [
              "   class                                              tweet\n",
              "0      2  !!! RT @mayasolovely: As a woman you shouldn't...\n",
              "1      1  !!!!! RT @mleew17: boy dats cold...tyga dwn ba...\n",
              "2      1  !!!!!!! RT @UrKindOfBrand Dawg!!!! RT @80sbaby...\n",
              "3      1  !!!!!!!!! RT @C_G_Anderson: @viva_based she lo...\n",
              "4      1  !!!!!!!!!!!!! RT @ShenikaRoberts: The shit you..."
            ]
          },
          "execution_count": 472,
          "metadata": {},
          "output_type": "execute_result"
        }
      ],
      "source": [
        "# delete irrelevant column\n",
        "df.drop(['Unnamed: 0', 'hate_speech', 'offensive_language', 'neither', 'count'], inplace=True, axis=1)\n",
        "df.head()"
      ]
    },
    {
      "cell_type": "markdown",
      "id": "f7c87df8",
      "metadata": {
        "id": "f7c87df8"
      },
      "source": [
        "## Cleaning and processing text"
      ]
    },
    {
      "cell_type": "code",
      "execution_count": 473,
      "id": "tNVBpzLdzcz3",
      "metadata": {
        "colab": {
          "base_uri": "https://localhost:8080/"
        },
        "id": "tNVBpzLdzcz3",
        "outputId": "6bdbc809-8ab3-4a1a-94ce-b98a773a7d64"
      },
      "outputs": [
        {
          "name": "stdout",
          "output_type": "stream",
          "text": [
            "!!! RT @mayasolovely: As a woman you shouldn't complain about cleaning up your house. &amp; as a man you should always take the trash out...\n",
            "!!!!! RT @mleew17: boy dats cold...tyga dwn bad for cuffin dat hoe in the 1st place!!\n",
            "!!!!!!! RT @UrKindOfBrand Dawg!!!! RT @80sbaby4life: You ever fuck a bitch and she start to cry? You be confused as shit\n",
            "!!!!!!!!! RT @C_G_Anderson: @viva_based she look like a tranny\n",
            "!!!!!!!!!!!!! RT @ShenikaRoberts: The shit you hear about me might be true or it might be faker than the bitch who told it to ya &#57361;\n",
            "!!!!!!!!!!!!!!!!!!\"@T_Madison_x: The shit just blows me..claim you so faithful and down for somebody but still fucking with hoes! &#128514;&#128514;&#128514;\"\n",
            "!!!!!!\"@__BrighterDays: I can not just sit up and HATE on another bitch .. I got too much shit going on!\"\n",
            "!!!!&#8220;@selfiequeenbri: cause I'm tired of you big bitches coming for us skinny girls!!&#8221;\n",
            "\" &amp; you might not get ya bitch back &amp; thats that \"\n",
            "\" @rhythmixx_ :hobbies include: fighting Mariam\"\n",
            "\n",
            "bitch\n",
            "\" Keeks is a bitch she curves everyone \" lol I walked into a conversation like this. Smh\n",
            "\" Murda Gang bitch its Gang Land \"\n",
            "\" So hoes that smoke are losers ? \" yea ... go on IG\n",
            "\" bad bitches is the only thing that i like \"\n",
            "\" bitch get up off me \"\n",
            "\" bitch nigga miss me with it \"\n",
            "\" bitch plz whatever \"\n",
            "\" bitch who do you love \"\n",
            "\" bitches get cut off everyday B \"\n",
            "\" black bottle &amp; a bad bitch \"\n"
          ]
        }
      ],
      "source": [
        "for i in range(0,20):\n",
        "  print(df[\"tweet\"][i])"
      ]
    },
    {
      "cell_type": "code",
      "execution_count": 474,
      "id": "aS1kIpu_M7eF",
      "metadata": {
        "id": "aS1kIpu_M7eF"
      },
      "outputs": [],
      "source": [
        "#modal verbs & others\n",
        "replace_list = {r\"i'm\": 'I am',\n",
        "                r\"I'm\": 'I am',\n",
        "                r\"let’s\": 'let us',\n",
        "                r\"can't\": 'can not',\n",
        "                r\"mustn't\": 'must not',\n",
        "                r\"shouldn't\": 'should not',\n",
        "                r\"don't\": 'do not',\n",
        "                r\"doesn't\" : 'does not',\n",
        "                r\"cannot\": 'can not',\n",
        "                r\"wouldn't\": 'would not',\n",
        "                r\"shan’t\": 'shall not'}"
      ]
    },
    {
      "cell_type": "code",
      "execution_count": 475,
      "id": "cxxKI_T_CGRl",
      "metadata": {
        "colab": {
          "base_uri": "https://localhost:8080/"
        },
        "id": "cxxKI_T_CGRl",
        "outputId": "887168ba-108c-4aa8-e850-2c86575b2e00"
      },
      "outputs": [
        {
          "name": "stderr",
          "output_type": "stream",
          "text": [
            "100%|██████████| 11/11 [01:49<00:00,  9.98s/it]\n",
            "24783it [00:22, 1086.91it/s]\n"
          ]
        }
      ],
      "source": [
        "df['tweet'] = df['tweet'].apply(lambda x : str(x))\n",
        "df['tweet'] = df['tweet'].apply(lambda x : x.lower())\n",
        "df['tweet'] = df['tweet'].apply(lambda x : re.sub('@[^\\s]+','', x))\n",
        "for s in tqdm(replace_list):\n",
        "  for idx,row in df.iterrows():\n",
        "    df['tweet'][idx] = df['tweet'][idx].replace(s, replace_list[s])\n",
        "for idx,row in tqdm(df.iterrows()):\n",
        "    df['tweet'][idx] = df['tweet'][idx].replace('rt', \"\")\n",
        "    df['tweet'][idx] = df['tweet'][idx].replace('&amp', \"\")"
      ]
    },
    {
      "cell_type": "code",
      "execution_count": 476,
      "id": "bcb62fd3",
      "metadata": {
        "colab": {
          "base_uri": "https://localhost:8080/",
          "height": 206
        },
        "id": "bcb62fd3",
        "outputId": "e847ed1b-7f21-410f-90b9-527e9f95f517"
      },
      "outputs": [
        {
          "data": {
            "text/html": [
              "<div>\n",
              "<style scoped>\n",
              "    .dataframe tbody tr th:only-of-type {\n",
              "        vertical-align: middle;\n",
              "    }\n",
              "\n",
              "    .dataframe tbody tr th {\n",
              "        vertical-align: top;\n",
              "    }\n",
              "\n",
              "    .dataframe thead th {\n",
              "        text-align: right;\n",
              "    }\n",
              "</style>\n",
              "<table border=\"1\" class=\"dataframe\">\n",
              "  <thead>\n",
              "    <tr style=\"text-align: right;\">\n",
              "      <th></th>\n",
              "      <th>class</th>\n",
              "      <th>tweet</th>\n",
              "    </tr>\n",
              "  </thead>\n",
              "  <tbody>\n",
              "    <tr>\n",
              "      <th>0</th>\n",
              "      <td>2</td>\n",
              "      <td>woman complain cleaning house man always take ...</td>\n",
              "    </tr>\n",
              "    <tr>\n",
              "      <th>1</th>\n",
              "      <td>1</td>\n",
              "      <td>boy dats coldtyga dwn bad cuffin dat hoe place</td>\n",
              "    </tr>\n",
              "    <tr>\n",
              "      <th>2</th>\n",
              "      <td>1</td>\n",
              "      <td>dawg ever fuck bitch sta cry confused shit</td>\n",
              "    </tr>\n",
              "    <tr>\n",
              "      <th>3</th>\n",
              "      <td>1</td>\n",
              "      <td>look like tranny</td>\n",
              "    </tr>\n",
              "    <tr>\n",
              "      <th>4</th>\n",
              "      <td>1</td>\n",
              "      <td>shit hear might true might faker bitch told ya</td>\n",
              "    </tr>\n",
              "  </tbody>\n",
              "</table>\n",
              "</div>"
            ],
            "text/plain": [
              "   class                                              tweet\n",
              "0      2  woman complain cleaning house man always take ...\n",
              "1      1     boy dats coldtyga dwn bad cuffin dat hoe place\n",
              "2      1         dawg ever fuck bitch sta cry confused shit\n",
              "3      1                                   look like tranny\n",
              "4      1     shit hear might true might faker bitch told ya"
            ]
          },
          "execution_count": 476,
          "metadata": {},
          "output_type": "execute_result"
        }
      ],
      "source": [
        "#cleaning and processing text using nltk and regular expressions\n",
        "def clean_text(text):\n",
        "    # text = str(text) #converting text to string\n",
        "    # text = text.lower() # converting text to lower case\n",
        "    text = re.sub('\\[.*?/]', '', text) #removing punctuation marks\n",
        "    text = re.sub('https://\\S+www\\.\\S+', '', text) #reomving hyperlink format text\n",
        "    text = re.sub('<.*?>+', '', text)\n",
        "    text = re.sub('[%s]' % re.escape(string.punctuation), '', text)\n",
        "    text = re.sub('\\w*\\d\\w*', '', text) #removing numbers\n",
        "    text = \" \".join(text.split())\n",
        "    #removing stopwords\n",
        "    text = [word for word in text.split(' ') if word not in stopword]\n",
        "    text = \" \".join(text)\n",
        "    # text = [stemmer.stem(word) for word in text.split(' ')]\n",
        "    # text = \" \".join(text)\n",
        "    text = text.strip()\n",
        "    return text\n",
        "\n",
        "df[\"tweet\"] = df[\"tweet\"].apply(clean_text)\n",
        "df.head()"
      ]
    },
    {
      "cell_type": "code",
      "execution_count": 477,
      "id": "eM7kSArpQCq7",
      "metadata": {
        "colab": {
          "base_uri": "https://localhost:8080/"
        },
        "id": "eM7kSArpQCq7",
        "outputId": "35fe8403-0e3f-4832-ec56-33cc5c58805e"
      },
      "outputs": [
        {
          "name": "stdout",
          "output_type": "stream",
          "text": [
            "woman complain cleaning house man always take trash\n",
            "boy dats coldtyga dwn bad cuffin dat hoe place\n",
            "dawg ever fuck bitch sta cry confused shit\n",
            "look like tranny\n",
            "shit hear might true might faker bitch told ya\n",
            "shit blows meclaim faithful somebody still fucking hoes\n",
            "sit hate another bitch got much shit going\n",
            "cause I tired big bitches coming us skinny\n",
            "might get ya bitch back thats\n",
            "hobbies include fighting mariam bitch\n",
            "keeks bitch curves everyone lol walked conversation like smh\n",
            "murda gang bitch gang land\n",
            "hoes smoke losers yea go ig\n",
            "bad bitches thing like\n",
            "bitch get\n",
            "bitch nigga miss\n",
            "bitch plz whatever\n",
            "bitch love\n",
            "bitches get cut everyday b\n",
            "black bottle bad bitch\n"
          ]
        }
      ],
      "source": [
        "for i in range(0,20):\n",
        "  print(df[\"tweet\"][i])"
      ]
    },
    {
      "cell_type": "markdown",
      "id": "cdca9505",
      "metadata": {
        "id": "cdca9505"
      },
      "source": [
        "## Model Selection"
      ]
    },
    {
      "cell_type": "code",
      "execution_count": 478,
      "id": "92aa5e44",
      "metadata": {
        "id": "92aa5e44"
      },
      "outputs": [],
      "source": [
        "X = np.array(df['tweet'])\n",
        "y = df['class']\n",
        "\n",
        "X_train, X_test, y_train, y_test = train_test_split(X, y, test_size = 0.2, random_state = 42)"
      ]
    },
    {
      "cell_type": "code",
      "execution_count": 479,
      "id": "7BuCpa2IDdIW",
      "metadata": {
        "colab": {
          "base_uri": "https://localhost:8080/"
        },
        "id": "7BuCpa2IDdIW",
        "outputId": "3506faa0-4904-4090-f410-e87a1ecc6708"
      },
      "outputs": [
        {
          "name": "stdout",
          "output_type": "stream",
          "text": [
            "(19826,)\n",
            "(19826,)\n",
            "(4957,)\n",
            "(4957,)\n"
          ]
        }
      ],
      "source": [
        "print(X_train.shape)\n",
        "print(y_train.shape)\n",
        "print(X_test.shape)\n",
        "print(y_test.shape)"
      ]
    },
    {
      "cell_type": "code",
      "execution_count": 480,
      "id": "IuklSsNK_8Pt",
      "metadata": {
        "id": "IuklSsNK_8Pt"
      },
      "outputs": [],
      "source": [
        "tweet_tokenizer = TweetTokenizer() \n",
        "vectorizer = CountVectorizer(analyzer = \"word\", \n",
        "                             tokenizer = tweet_tokenizer.tokenize,\n",
        "                             ngram_range=(1, 2),\n",
        "                             max_df=0.5,\n",
        "                             min_df=2, \n",
        "                             max_features = 1000)"
      ]
    },
    {
      "cell_type": "code",
      "execution_count": 481,
      "id": "9ta9b1FvCtWl",
      "metadata": {
        "id": "9ta9b1FvCtWl"
      },
      "outputs": [],
      "source": [
        "X_train_bow = vectorizer.fit_transform(X_train).toarray()\n",
        "X_test_bow = vectorizer.transform(X_test).toarray()"
      ]
    },
    {
      "cell_type": "code",
      "execution_count": 482,
      "id": "61aa4182",
      "metadata": {},
      "outputs": [],
      "source": [
        "model_performance = {}\n",
        "model_name = []\n",
        "matrix = []\n",
        "matrix_plot = []\n",
        "accur_score = []\n",
        "memor_usage = []\n",
        "time_taken_model = []\n",
        "\n",
        "\n",
        "outputs = []\n",
        "tweets = []\n",
        "mod_name = []\n",
        "test_tweets = [\"He is a true hero, life saver and good man!\",\n",
        "               \"As a woman you shouldn't complain about cleaning up your house.\",\n",
        "               \"I can not just sit up and HATE on another bitch .. I got too much shit going on!\",\n",
        "               \"Keeks is a bitch she curves everyone \"\" lol I walked into a conversation like this. Smh\"]\n"
      ]
    },
    {
      "attachments": {},
      "cell_type": "markdown",
      "id": "5d423e2d",
      "metadata": {},
      "source": [
        "### 1. Random Forest"
      ]
    },
    {
      "cell_type": "code",
      "execution_count": 483,
      "id": "0HYEBzHWGFl0",
      "metadata": {
        "id": "0HYEBzHWGFl0"
      },
      "outputs": [
        {
          "name": "stdout",
          "output_type": "stream",
          "text": [
            "              precision    recall  f1-score   support\n",
            "\n",
            "           0       0.50      0.21      0.30       290\n",
            "           1       0.94      0.93      0.94      3832\n",
            "           2       0.75      0.94      0.83       835\n",
            "\n",
            "    accuracy                           0.89      4957\n",
            "   macro avg       0.73      0.69      0.69      4957\n",
            "weighted avg       0.88      0.89      0.88      4957\n",
            "\n"
          ]
        },
        {
          "data": {
            "image/png": "[encoded data removed]",
            "text/plain": [
              "<Figure size 432x288 with 2 Axes>"
            ]
          },
          "metadata": {
            "needs_background": "light"
          },
          "output_type": "display_data"
        }
      ],
      "source": [
        "rf = RandomForestClassifier(n_estimators= 500,\n",
        "                                  min_samples_split= 20,\n",
        "                                  min_samples_leaf= 2,\n",
        "                                  max_features= 'auto',\n",
        "                                  max_depth= None,\n",
        "                                  bootstrap= False)\n",
        "start_time = time.time()\n",
        "rf.fit(X_train_bow, y_train)\n",
        "end_time = time.time()\n",
        "time_taken = end_time - start_time\n",
        "predictions = rf.predict(X_test_bow)\n",
        "conf_matrix = confusion_matrix(y_test, predictions)\n",
        "ac_score = accuracy_score(y_test, predictions)\n",
        "cm_display = metrics.ConfusionMatrixDisplay(confusion_matrix = conf_matrix, \n",
        "                                        display_labels = [\"Hate Speech detected\",\n",
        "                                                        \"Offensive Language detected\",\n",
        "                                                        \"Neither\"])\n",
        "fig, ax = plt.subplots(figsize=(6,4))\n",
        "cm_display.plot(ax=ax)\n",
        "\n",
        "model_name.append('Random Forest Classifier')\n",
        "matrix.append(conf_matrix)\n",
        "accur_score.append(ac_score)\n",
        "time_taken_model.append(time_taken)\n",
        "print (class_report)\n"
      ]
    },
    {
      "cell_type": "code",
      "execution_count": 484,
      "id": "6a8c433c",
      "metadata": {},
      "outputs": [],
      "source": [
        "for tweet in test_tweets:\n",
        "    df1 = vectorizer.transform([tweet]).toarray()\n",
        "    if(rf.predict(df1) == 0):\n",
        "        output = \"Hate Speech detected\"\n",
        "    elif(rf.predict(df1) == 1):\n",
        "        output = \"Offensive Language detected\"\n",
        "    elif(rf.predict(df1) == 2):\n",
        "        output = \"Neither\"\n",
        "    tweets.append(tweet)\n",
        "    outputs.append(output)\n",
        "    mod_name.append('Random Forest')"
      ]
    },
    {
      "attachments": {},
      "cell_type": "markdown",
      "id": "64abaca6",
      "metadata": {},
      "source": [
        "### 2. Logistic Regression"
      ]
    },
    {
      "cell_type": "code",
      "execution_count": 485,
      "id": "a6b981cb",
      "metadata": {},
      "outputs": [
        {
          "name": "stdout",
          "output_type": "stream",
          "text": [
            "              precision    recall  f1-score   support\n",
            "\n",
            "           0       0.46      0.19      0.27       290\n",
            "           1       0.92      0.94      0.93      3832\n",
            "           2       0.78      0.86      0.82       835\n",
            "\n",
            "    accuracy                           0.89      4957\n",
            "   macro avg       0.72      0.67      0.68      4957\n",
            "weighted avg       0.87      0.89      0.88      4957\n",
            "\n"
          ]
        },
        {
          "data": {
            "image/png": "[encoded data removed]",
            "text/plain": [
              "<Figure size 432x288 with 2 Axes>"
            ]
          },
          "metadata": {
            "needs_background": "light"
          },
          "output_type": "display_data"
        }
      ],
      "source": [
        "lr = LogisticRegression(multi_class = 'ovr', solver = 'liblinear', random_state = 42)\n",
        "start_time = time.time()\n",
        "lr.fit(X_train_bow, y_train)\n",
        "end_time = time.time()\n",
        "time_taken = end_time - start_time\n",
        "predictions = lr.predict(X_test_bow)\n",
        "conf_matrix = confusion_matrix(y_test, predictions)\n",
        "ac_score = accuracy_score(y_test, predictions)\n",
        "class_report = classification_report(y_test, predictions)\n",
        "cm_display = metrics.ConfusionMatrixDisplay(confusion_matrix = conf_matrix, \n",
        "                                        display_labels = [\"Hate Speech detected\",\n",
        "                                                        \"Offensive Language detected\",\n",
        "                                                        \"Neither\"])\n",
        "fig, ax = plt.subplots(figsize=(6,4))\n",
        "cm_display.plot(ax=ax)\n",
        "\n",
        "model_name.append('Logistic Regression')\n",
        "matrix.append(conf_matrix)\n",
        "accur_score.append(ac_score)\n",
        "time_taken_model.append(time_taken)\n",
        "print (class_report)"
      ]
    },
    {
      "cell_type": "code",
      "execution_count": 486,
      "id": "2e641963",
      "metadata": {},
      "outputs": [],
      "source": [
        "for tweet in test_tweets:\n",
        "    df1 = vectorizer.transform([tweet]).toarray()\n",
        "    if(lr.predict(df1) == 0):\n",
        "        output = \"Hate Speech detected\"\n",
        "    elif(lr.predict(df1) == 1):\n",
        "        output = \"Offensive Language detected\"\n",
        "    elif(lr.predict(df1) == 2):\n",
        "        output = \"Neither\"\n",
        "    tweets.append(tweet)\n",
        "    outputs.append(output)\n",
        "    mod_name.append('Logistic Regression')"
      ]
    },
    {
      "attachments": {},
      "cell_type": "markdown",
      "id": "138006be",
      "metadata": {},
      "source": [
        "### 3. Decision Tree Classifier"
      ]
    },
    {
      "cell_type": "code",
      "execution_count": 487,
      "id": "44097e97",
      "metadata": {},
      "outputs": [
        {
          "name": "stdout",
          "output_type": "stream",
          "text": [
            "              precision    recall  f1-score   support\n",
            "\n",
            "           0       0.30      0.35      0.32       290\n",
            "           1       0.91      0.91      0.91      3832\n",
            "           2       0.78      0.74      0.76       835\n",
            "\n",
            "    accuracy                           0.85      4957\n",
            "   macro avg       0.66      0.67      0.66      4957\n",
            "weighted avg       0.85      0.85      0.85      4957\n",
            "\n"
          ]
        },
        {
          "data": {
            "image/png": "[encoded data removed]",
            "text/plain": [
              "<Figure size 432x288 with 2 Axes>"
            ]
          },
          "metadata": {
            "needs_background": "light"
          },
          "output_type": "display_data"
        }
      ],
      "source": [
        "dtc = DecisionTreeClassifier()\n",
        "start_time = time.time()\n",
        "dtc.fit(X_train_bow, y_train)\n",
        "end_time = time.time()\n",
        "time_taken = end_time - start_time\n",
        "predictions = dtc.predict(X_test_bow)\n",
        "conf_matrix = confusion_matrix(y_test, predictions)\n",
        "ac_score = accuracy_score(y_test, predictions)\n",
        "class_report = classification_report(y_test, predictions)\n",
        "cm_display = metrics.ConfusionMatrixDisplay(confusion_matrix = conf_matrix, \n",
        "                                        display_labels = [\"Hate Speech detected\",\n",
        "                                                        \"Offensive Language detected\",\n",
        "                                                        \"Neither\"])\n",
        "fig, ax = plt.subplots(figsize=(6,4))\n",
        "cm_display.plot(ax=ax)\n",
        "\n",
        "model_name.append('Decision Tree Classifier')\n",
        "matrix.append(conf_matrix)\n",
        "accur_score.append(ac_score)\n",
        "time_taken_model.append(time_taken)\n",
        "print (class_report)"
      ]
    },
    {
      "cell_type": "code",
      "execution_count": 488,
      "id": "cdea911b",
      "metadata": {},
      "outputs": [],
      "source": [
        "for tweet in test_tweets:\n",
        "    df1 = vectorizer.transform([tweet]).toarray()\n",
        "    if(dtc.predict(df1) == 0):\n",
        "        output = \"Hate Speech detected\"\n",
        "    elif(dtc.predict(df1) == 1):\n",
        "        output = \"Offensive Language detected\"\n",
        "    elif(dtc.predict(df1) == 2):\n",
        "        output = \"Neither\"\n",
        "    tweets.append(tweet)\n",
        "    outputs.append(output)\n",
        "    mod_name.append('Logistic Regression')"
      ]
    },
    {
      "attachments": {},
      "cell_type": "markdown",
      "id": "d9e48da1",
      "metadata": {},
      "source": [
        "### 4. Ada Boost Classifier"
      ]
    },
    {
      "cell_type": "code",
      "execution_count": 489,
      "id": "3008c99d",
      "metadata": {},
      "outputs": [
        {
          "name": "stdout",
          "output_type": "stream",
          "text": [
            "              precision    recall  f1-score   support\n",
            "\n",
            "           0       0.50      0.21      0.30       290\n",
            "           1       0.94      0.93      0.94      3832\n",
            "           2       0.75      0.94      0.83       835\n",
            "\n",
            "    accuracy                           0.89      4957\n",
            "   macro avg       0.73      0.69      0.69      4957\n",
            "weighted avg       0.88      0.89      0.88      4957\n",
            "\n"
          ]
        },
        {
          "data": {
            "image/png": "[encoded data removed]",
            "text/plain": [
              "<Figure size 432x288 with 2 Axes>"
            ]
          },
          "metadata": {
            "needs_background": "light"
          },
          "output_type": "display_data"
        }
      ],
      "source": [
        "ada = AdaBoostClassifier(n_estimators=100)\n",
        "start_time = time.time()\n",
        "ada.fit(X_train_bow, y_train)\n",
        "end_time = time.time()\n",
        "time_taken = end_time - start_time\n",
        "predictions = ada.predict(X_test_bow)\n",
        "conf_matrix = confusion_matrix(y_test, predictions)\n",
        "ac_score = accuracy_score(y_test, predictions)\n",
        "class_report = classification_report(y_test, predictions)\n",
        "cm_display = metrics.ConfusionMatrixDisplay(confusion_matrix = conf_matrix, \n",
        "                                        display_labels = [\"Hate Speech detected\",\n",
        "                                                        \"Offensive Language detected\",\n",
        "                                                        \"Neither\"])\n",
        "fig, ax = plt.subplots(figsize=(6,4))\n",
        "cm_display.plot(ax=ax)\n",
        "\n",
        "model_name.append('AdaBoost Classifier')\n",
        "matrix.append(conf_matrix)\n",
        "accur_score.append(ac_score)\n",
        "time_taken_model.append(time_taken)\n",
        "print (class_report)"
      ]
    },
    {
      "cell_type": "code",
      "execution_count": 490,
      "id": "a4698e25",
      "metadata": {},
      "outputs": [],
      "source": [
        "for tweet in test_tweets:\n",
        "    df1 = vectorizer.transform([tweet]).toarray()\n",
        "    if(ada.predict(df1) == 0):\n",
        "        output = \"Hate Speech detected\"\n",
        "    elif(ada.predict(df1) == 1):\n",
        "        output = \"Offensive Language detected\"\n",
        "    elif(ada.predict(df1) == 2):\n",
        "        output = \"Neither\"\n",
        "    tweets.append(tweet)\n",
        "    outputs.append(output)\n",
        "    mod_name.append('AdaBoost Classifier')"
      ]
    },
    {
      "attachments": {},
      "cell_type": "markdown",
      "id": "9e652aaf",
      "metadata": {},
      "source": [
        "### 5. LSTM"
      ]
    },
    {
      "cell_type": "code",
      "execution_count": 491,
      "id": "ab018144",
      "metadata": {},
      "outputs": [
        {
          "name": "stdout",
          "output_type": "stream",
          "text": [
            "Epoch 1/20\n",
            "78/78 [==============================] - 57s 656ms/step - loss: 0.3254 - accuracy: 0.8106 - val_loss: 0.2036 - val_accuracy: 0.8894\n",
            "Epoch 2/20\n",
            "78/78 [==============================] - 51s 659ms/step - loss: 0.1872 - accuracy: 0.8950 - val_loss: 0.1894 - val_accuracy: 0.8856\n",
            "Epoch 3/20\n",
            "78/78 [==============================] - 54s 690ms/step - loss: 0.1569 - accuracy: 0.9097 - val_loss: 0.1951 - val_accuracy: 0.8864\n",
            "Epoch 4/20\n",
            "78/78 [==============================] - 52s 672ms/step - loss: 0.1364 - accuracy: 0.9217 - val_loss: 0.2158 - val_accuracy: 0.8884\n",
            "Epoch 5/20\n",
            "78/78 [==============================] - 53s 677ms/step - loss: 0.1202 - accuracy: 0.9308 - val_loss: 0.2330 - val_accuracy: 0.8842\n",
            "Epoch 6/20\n",
            "78/78 [==============================] - 52s 661ms/step - loss: 0.1075 - accuracy: 0.9374 - val_loss: 0.2421 - val_accuracy: 0.8775\n",
            "Epoch 7/20\n",
            "78/78 [==============================] - 52s 670ms/step - loss: 0.0977 - accuracy: 0.9431 - val_loss: 0.2678 - val_accuracy: 0.8818\n",
            "Epoch 8/20\n",
            "78/78 [==============================] - 52s 671ms/step - loss: 0.0867 - accuracy: 0.9507 - val_loss: 0.3011 - val_accuracy: 0.8806\n",
            "Epoch 9/20\n",
            "78/78 [==============================] - 52s 668ms/step - loss: 0.0773 - accuracy: 0.9538 - val_loss: 0.3193 - val_accuracy: 0.8775\n",
            "Epoch 10/20\n",
            "78/78 [==============================] - 49s 625ms/step - loss: 0.0718 - accuracy: 0.9581 - val_loss: 0.3121 - val_accuracy: 0.8747\n",
            "Epoch 11/20\n",
            "78/78 [==============================] - 48s 611ms/step - loss: 0.0645 - accuracy: 0.9618 - val_loss: 0.3717 - val_accuracy: 0.8727\n",
            "Epoch 12/20\n",
            "78/78 [==============================] - 49s 623ms/step - loss: 0.0618 - accuracy: 0.9640 - val_loss: 0.3554 - val_accuracy: 0.8673\n",
            "Epoch 13/20\n",
            "78/78 [==============================] - 48s 619ms/step - loss: 0.0530 - accuracy: 0.9676 - val_loss: 0.3983 - val_accuracy: 0.8719\n",
            "Epoch 14/20\n",
            "78/78 [==============================] - 48s 620ms/step - loss: 0.0538 - accuracy: 0.9693 - val_loss: 0.3655 - val_accuracy: 0.8626\n",
            "Epoch 15/20\n",
            "78/78 [==============================] - 48s 618ms/step - loss: 0.0505 - accuracy: 0.9711 - val_loss: 0.4322 - val_accuracy: 0.8747\n",
            "Epoch 16/20\n",
            "78/78 [==============================] - 48s 614ms/step - loss: 0.0444 - accuracy: 0.9732 - val_loss: 0.4835 - val_accuracy: 0.8685\n",
            "Epoch 17/20\n",
            "78/78 [==============================] - 45s 583ms/step - loss: 0.0439 - accuracy: 0.9730 - val_loss: 0.4906 - val_accuracy: 0.8652\n",
            "Epoch 18/20\n",
            "78/78 [==============================] - 51s 650ms/step - loss: 0.0426 - accuracy: 0.9739 - val_loss: 0.5176 - val_accuracy: 0.8729\n",
            "Epoch 19/20\n",
            "78/78 [==============================] - 52s 665ms/step - loss: 0.0411 - accuracy: 0.9765 - val_loss: 0.4845 - val_accuracy: 0.8733\n",
            "Epoch 20/20\n",
            "78/78 [==============================] - 53s 676ms/step - loss: 0.0411 - accuracy: 0.9760 - val_loss: 0.4792 - val_accuracy: 0.8715\n",
            "39/39 - 3s - loss: 0.4792 - accuracy: 0.8715 - 3s/epoch - 79ms/step\n",
            "155/155 [==============================] - 7s 37ms/step\n",
            "              precision    recall  f1-score   support\n",
            "\n",
            "           0       0.34      0.27      0.30       290\n",
            "           1       0.91      0.94      0.92      3848\n",
            "           2       0.82      0.78      0.80       819\n",
            "\n",
            "    accuracy                           0.87      4957\n",
            "   macro avg       0.69      0.66      0.67      4957\n",
            "weighted avg       0.86      0.87      0.87      4957\n",
            "\n"
          ]
        },
        {
          "data": {
            "image/png": "[encoded data removed]",
            "text/plain": [
              "<Figure size 432x288 with 2 Axes>"
            ]
          },
          "metadata": {
            "needs_background": "light"
          },
          "output_type": "display_data"
        }
      ],
      "source": [
        "# mem_usage = memory_usage(model.fit(X_train_bow, y_train))\n",
        "max_words = 2000\n",
        "tokenizer = Tokenizer(num_words = max_words,\n",
        "                filters = '\"#$%&()*+-/:;<=>@[\\]^_`{|}~',\n",
        "                split = ' ',\n",
        "                lower = True)\n",
        "\n",
        "tokenizer.fit_on_texts(df['tweet'].values)\n",
        "X = tokenizer.texts_to_sequences(df['tweet'].values)\n",
        "X = pad_sequences(X)\n",
        "y = to_categorical(df['class'], num_classes = 3)\n",
        "\n",
        "X_train, X_test, y_train, y_test = train_test_split(X, y, test_size = 0.20)\n",
        "\n",
        "tf.keras.backend.clear_session()\n",
        "model_lstm = Sequential()\n",
        "model_lstm.add(Embedding(input_dim = 8000, output_dim = 128, input_length = X_train.shape[1]))\n",
        "model_lstm.add(SpatialDropout1D(0.1))\n",
        "model_lstm.add(LSTM(256, dropout = 0.2, recurrent_dropout = 0.1))\n",
        "model_lstm.add(Dense(256, activation = 'relu'))\n",
        "model_lstm.add(Dropout(0.1))\n",
        "model_lstm.add(Dense(3, activation = 'softmax'))\n",
        "model_lstm.compile(loss ='binary_crossentropy',\n",
        "            optimizer = tf.keras.optimizers.Adam(learning_rate = 1e-2),\n",
        "            metrics = ['accuracy'])\n",
        "start_time = time.time()\n",
        "history = model_lstm.fit(X_train,\n",
        "                    y_train,\n",
        "                    validation_data = (X_test, y_test), \n",
        "                    epochs = 20,\n",
        "                    batch_size = 256)\n",
        "end_time = time.time()\n",
        "time_taken = end_time - start_time\n",
        "score, ac_score = model_lstm.evaluate(X_test, y_test, verbose = 2, batch_size = 128)\n",
        "lstm_pred = model_lstm.predict(X_test)\n",
        "predictions = np.argmax(lstm_pred, axis = 1)\n",
        "y_test = np.argmax(y_test, axis = 1)\n",
        "conf_matrix = confusion_matrix(y_test, predictions)\n",
        "class_report = classification_report(y_test, predictions)\n",
        "cm_display = metrics.ConfusionMatrixDisplay(confusion_matrix = conf_matrix, \n",
        "                                        display_labels = [\"Hate Speech detected\",\n",
        "                                                        \"Offensive Language detected\",\n",
        "                                                        \"Neither\"])\n",
        "fig, ax = plt.subplots(figsize=(6,4))\n",
        "cm_display.plot(ax=ax)\n",
        "\n",
        "model_name.append('LSTM')\n",
        "matrix.append(conf_matrix)\n",
        "accur_score.append(ac_score)\n",
        "time_taken_model.append(time_taken)\n",
        "print (class_report)\n"
      ]
    },
    {
      "cell_type": "code",
      "execution_count": 492,
      "id": "db0ce927",
      "metadata": {},
      "outputs": [
        {
          "name": "stdout",
          "output_type": "stream",
          "text": [
            "2/2 [==============================] - 2s 129ms/step\n",
            "2/2 [==============================] - 0s 172ms/step\n",
            "3/3 [==============================] - 1s 201ms/step\n",
            "3/3 [==============================] - 1s 192ms/step\n"
          ]
        }
      ],
      "source": [
        "for tweet in test_tweets:\n",
        "    twt = tokenizer.texts_to_sequences(tweet)\n",
        "    twt = pad_sequences(twt, maxlen = 128)\n",
        "    sentiment = model_lstm.predict(twt)[0]\n",
        "\n",
        "    if(np.argmax(sentiment) == 0):\n",
        "        output = \"Hate Speech detected\"\n",
        "    elif (np.argmax(sentiment) == 1):\n",
        "        output = \"Offensive Language detected\"\n",
        "    elif (np.argmax(sentiment) == 2):\n",
        "        output = \"Neither\"\n",
        "    tweets.append(tweet)\n",
        "    outputs.append(output)\n",
        "    mod_name.append('LSTM')"
      ]
    },
    {
      "cell_type": "code",
      "execution_count": 493,
      "id": "cfcd6ced",
      "metadata": {},
      "outputs": [],
      "source": [
        "model_performance = {'Model Name': model_name,\n",
        "                     'Accuracy Score':accur_score,\n",
        "                     'Confusion Matrix': matrix,\n",
        "                     'Time Taken':time_taken_model}\n",
        "real_world_perfomance = {'Tweet':tweets,\n",
        "                          'Model Name': mod_name,\n",
        "                          'Output': outputs}\n",
        "                          "
      ]
    },
    {
      "cell_type": "code",
      "execution_count": 494,
      "id": "bbbf3f56",
      "metadata": {},
      "outputs": [
        {
          "data": {
            "text/html": [
              "<div>\n",
              "<style scoped>\n",
              "    .dataframe tbody tr th:only-of-type {\n",
              "        vertical-align: middle;\n",
              "    }\n",
              "\n",
              "    .dataframe tbody tr th {\n",
              "        vertical-align: top;\n",
              "    }\n",
              "\n",
              "    .dataframe thead th {\n",
              "        text-align: right;\n",
              "    }\n",
              "</style>\n",
              "<table border=\"1\" class=\"dataframe\">\n",
              "  <thead>\n",
              "    <tr style=\"text-align: right;\">\n",
              "      <th></th>\n",
              "      <th>Model Name</th>\n",
              "      <th>Accuracy Score</th>\n",
              "      <th>Confusion Matrix</th>\n",
              "      <th>Time Taken</th>\n",
              "    </tr>\n",
              "  </thead>\n",
              "  <tbody>\n",
              "    <tr>\n",
              "      <th>0</th>\n",
              "      <td>Random Forest Classifier</td>\n",
              "      <td>0.887835</td>\n",
              "      <td>[[34, 212, 44], [21, 3644, 167], [1, 111, 723]]</td>\n",
              "      <td>544.539804</td>\n",
              "    </tr>\n",
              "    <tr>\n",
              "      <th>1</th>\n",
              "      <td>Logistic Regression</td>\n",
              "      <td>0.886020</td>\n",
              "      <td>[[56, 193, 41], [60, 3615, 157], [7, 107, 721]]</td>\n",
              "      <td>0.527997</td>\n",
              "    </tr>\n",
              "    <tr>\n",
              "      <th>2</th>\n",
              "      <td>Decision Tree Classifier</td>\n",
              "      <td>0.849102</td>\n",
              "      <td>[[102, 152, 36], [207, 3487, 138], [35, 180, 6...</td>\n",
              "      <td>29.706999</td>\n",
              "    </tr>\n",
              "    <tr>\n",
              "      <th>3</th>\n",
              "      <td>AdaBoost Classifier</td>\n",
              "      <td>0.889248</td>\n",
              "      <td>[[62, 179, 49], [54, 3561, 217], [9, 41, 785]]</td>\n",
              "      <td>75.716456</td>\n",
              "    </tr>\n",
              "    <tr>\n",
              "      <th>4</th>\n",
              "      <td>LSTM</td>\n",
              "      <td>0.871495</td>\n",
              "      <td>[[78, 187, 25], [127, 3604, 117], [22, 159, 638]]</td>\n",
              "      <td>1013.914154</td>\n",
              "    </tr>\n",
              "  </tbody>\n",
              "</table>\n",
              "</div>"
            ],
            "text/plain": [
              "                 Model Name  Accuracy Score  \\\n",
              "0  Random Forest Classifier        0.887835   \n",
              "1       Logistic Regression        0.886020   \n",
              "2  Decision Tree Classifier        0.849102   \n",
              "3       AdaBoost Classifier        0.889248   \n",
              "4                      LSTM        0.871495   \n",
              "\n",
              "                                    Confusion Matrix   Time Taken  \n",
              "0    [[34, 212, 44], [21, 3644, 167], [1, 111, 723]]   544.539804  \n",
              "1    [[56, 193, 41], [60, 3615, 157], [7, 107, 721]]     0.527997  \n",
              "2  [[102, 152, 36], [207, 3487, 138], [35, 180, 6...    29.706999  \n",
              "3     [[62, 179, 49], [54, 3561, 217], [9, 41, 785]]    75.716456  \n",
              "4  [[78, 187, 25], [127, 3604, 117], [22, 159, 638]]  1013.914154  "
            ]
          },
          "execution_count": 494,
          "metadata": {},
          "output_type": "execute_result"
        }
      ],
      "source": [
        "pd.DataFrame(model_performance)"
      ]
    },
    {
      "cell_type": "code",
      "execution_count": 495,
      "id": "518c9bb5",
      "metadata": {},
      "outputs": [
        {
          "data": {
            "text/html": [
              "<div>\n",
              "<style scoped>\n",
              "    .dataframe tbody tr th:only-of-type {\n",
              "        vertical-align: middle;\n",
              "    }\n",
              "\n",
              "    .dataframe tbody tr th {\n",
              "        vertical-align: top;\n",
              "    }\n",
              "\n",
              "    .dataframe thead th {\n",
              "        text-align: right;\n",
              "    }\n",
              "</style>\n",
              "<table border=\"1\" class=\"dataframe\">\n",
              "  <thead>\n",
              "    <tr style=\"text-align: right;\">\n",
              "      <th></th>\n",
              "      <th>Tweet</th>\n",
              "      <th>Model Name</th>\n",
              "      <th>Output</th>\n",
              "    </tr>\n",
              "  </thead>\n",
              "  <tbody>\n",
              "    <tr>\n",
              "      <th>0</th>\n",
              "      <td>He is a true hero, life saver and good man!</td>\n",
              "      <td>Random Forest</td>\n",
              "      <td>Neither</td>\n",
              "    </tr>\n",
              "    <tr>\n",
              "      <th>1</th>\n",
              "      <td>As a woman you shouldn't complain about cleani...</td>\n",
              "      <td>Random Forest</td>\n",
              "      <td>Neither</td>\n",
              "    </tr>\n",
              "    <tr>\n",
              "      <th>2</th>\n",
              "      <td>I can not just sit up and HATE on another bitc...</td>\n",
              "      <td>Random Forest</td>\n",
              "      <td>Offensive Language detected</td>\n",
              "    </tr>\n",
              "    <tr>\n",
              "      <th>3</th>\n",
              "      <td>Keeks is a bitch she curves everyone  lol I wa...</td>\n",
              "      <td>Random Forest</td>\n",
              "      <td>Offensive Language detected</td>\n",
              "    </tr>\n",
              "    <tr>\n",
              "      <th>4</th>\n",
              "      <td>He is a true hero, life saver and good man!</td>\n",
              "      <td>Logistic Regression</td>\n",
              "      <td>Offensive Language detected</td>\n",
              "    </tr>\n",
              "    <tr>\n",
              "      <th>5</th>\n",
              "      <td>As a woman you shouldn't complain about cleani...</td>\n",
              "      <td>Logistic Regression</td>\n",
              "      <td>Offensive Language detected</td>\n",
              "    </tr>\n",
              "    <tr>\n",
              "      <th>6</th>\n",
              "      <td>I can not just sit up and HATE on another bitc...</td>\n",
              "      <td>Logistic Regression</td>\n",
              "      <td>Offensive Language detected</td>\n",
              "    </tr>\n",
              "    <tr>\n",
              "      <th>7</th>\n",
              "      <td>Keeks is a bitch she curves everyone  lol I wa...</td>\n",
              "      <td>Logistic Regression</td>\n",
              "      <td>Offensive Language detected</td>\n",
              "    </tr>\n",
              "    <tr>\n",
              "      <th>8</th>\n",
              "      <td>He is a true hero, life saver and good man!</td>\n",
              "      <td>Logistic Regression</td>\n",
              "      <td>Neither</td>\n",
              "    </tr>\n",
              "    <tr>\n",
              "      <th>9</th>\n",
              "      <td>As a woman you shouldn't complain about cleani...</td>\n",
              "      <td>Logistic Regression</td>\n",
              "      <td>Offensive Language detected</td>\n",
              "    </tr>\n",
              "    <tr>\n",
              "      <th>10</th>\n",
              "      <td>I can not just sit up and HATE on another bitc...</td>\n",
              "      <td>Logistic Regression</td>\n",
              "      <td>Offensive Language detected</td>\n",
              "    </tr>\n",
              "    <tr>\n",
              "      <th>11</th>\n",
              "      <td>Keeks is a bitch she curves everyone  lol I wa...</td>\n",
              "      <td>Logistic Regression</td>\n",
              "      <td>Offensive Language detected</td>\n",
              "    </tr>\n",
              "    <tr>\n",
              "      <th>12</th>\n",
              "      <td>He is a true hero, life saver and good man!</td>\n",
              "      <td>AdaBoost Classifier</td>\n",
              "      <td>Neither</td>\n",
              "    </tr>\n",
              "    <tr>\n",
              "      <th>13</th>\n",
              "      <td>As a woman you shouldn't complain about cleani...</td>\n",
              "      <td>AdaBoost Classifier</td>\n",
              "      <td>Neither</td>\n",
              "    </tr>\n",
              "    <tr>\n",
              "      <th>14</th>\n",
              "      <td>I can not just sit up and HATE on another bitc...</td>\n",
              "      <td>AdaBoost Classifier</td>\n",
              "      <td>Offensive Language detected</td>\n",
              "    </tr>\n",
              "    <tr>\n",
              "      <th>15</th>\n",
              "      <td>Keeks is a bitch she curves everyone  lol I wa...</td>\n",
              "      <td>AdaBoost Classifier</td>\n",
              "      <td>Offensive Language detected</td>\n",
              "    </tr>\n",
              "    <tr>\n",
              "      <th>16</th>\n",
              "      <td>He is a true hero, life saver and good man!</td>\n",
              "      <td>LSTM</td>\n",
              "      <td>Offensive Language detected</td>\n",
              "    </tr>\n",
              "    <tr>\n",
              "      <th>17</th>\n",
              "      <td>As a woman you shouldn't complain about cleani...</td>\n",
              "      <td>LSTM</td>\n",
              "      <td>Offensive Language detected</td>\n",
              "    </tr>\n",
              "    <tr>\n",
              "      <th>18</th>\n",
              "      <td>I can not just sit up and HATE on another bitc...</td>\n",
              "      <td>LSTM</td>\n",
              "      <td>Offensive Language detected</td>\n",
              "    </tr>\n",
              "    <tr>\n",
              "      <th>19</th>\n",
              "      <td>Keeks is a bitch she curves everyone  lol I wa...</td>\n",
              "      <td>LSTM</td>\n",
              "      <td>Neither</td>\n",
              "    </tr>\n",
              "  </tbody>\n",
              "</table>\n",
              "</div>"
            ],
            "text/plain": [
              "                                                Tweet           Model Name  \\\n",
              "0         He is a true hero, life saver and good man!        Random Forest   \n",
              "1   As a woman you shouldn't complain about cleani...        Random Forest   \n",
              "2   I can not just sit up and HATE on another bitc...        Random Forest   \n",
              "3   Keeks is a bitch she curves everyone  lol I wa...        Random Forest   \n",
              "4         He is a true hero, life saver and good man!  Logistic Regression   \n",
              "5   As a woman you shouldn't complain about cleani...  Logistic Regression   \n",
              "6   I can not just sit up and HATE on another bitc...  Logistic Regression   \n",
              "7   Keeks is a bitch she curves everyone  lol I wa...  Logistic Regression   \n",
              "8         He is a true hero, life saver and good man!  Logistic Regression   \n",
              "9   As a woman you shouldn't complain about cleani...  Logistic Regression   \n",
              "10  I can not just sit up and HATE on another bitc...  Logistic Regression   \n",
              "11  Keeks is a bitch she curves everyone  lol I wa...  Logistic Regression   \n",
              "12        He is a true hero, life saver and good man!  AdaBoost Classifier   \n",
              "13  As a woman you shouldn't complain about cleani...  AdaBoost Classifier   \n",
              "14  I can not just sit up and HATE on another bitc...  AdaBoost Classifier   \n",
              "15  Keeks is a bitch she curves everyone  lol I wa...  AdaBoost Classifier   \n",
              "16        He is a true hero, life saver and good man!                 LSTM   \n",
              "17  As a woman you shouldn't complain about cleani...                 LSTM   \n",
              "18  I can not just sit up and HATE on another bitc...                 LSTM   \n",
              "19  Keeks is a bitch she curves everyone  lol I wa...                 LSTM   \n",
              "\n",
              "                         Output  \n",
              "0                       Neither  \n",
              "1                       Neither  \n",
              "2   Offensive Language detected  \n",
              "3   Offensive Language detected  \n",
              "4   Offensive Language detected  \n",
              "5   Offensive Language detected  \n",
              "6   Offensive Language detected  \n",
              "7   Offensive Language detected  \n",
              "8                       Neither  \n",
              "9   Offensive Language detected  \n",
              "10  Offensive Language detected  \n",
              "11  Offensive Language detected  \n",
              "12                      Neither  \n",
              "13                      Neither  \n",
              "14  Offensive Language detected  \n",
              "15  Offensive Language detected  \n",
              "16  Offensive Language detected  \n",
              "17  Offensive Language detected  \n",
              "18  Offensive Language detected  \n",
              "19                      Neither  "
            ]
          },
          "execution_count": 495,
          "metadata": {},
          "output_type": "execute_result"
        }
      ],
      "source": [
        "pd.DataFrame(real_world_perfomance)"
      ]
    },
    {
      "cell_type": "code",
      "execution_count": 501,
      "id": "0225c378",
      "metadata": {},
      "outputs": [],
      "source": [
        "df_perf = pd.DataFrame(real_world_perfomance)\n",
        "df_perf.to_csv('data/models_performance.csv', sep = ',',index = False)"
      ]
    },
    {
      "attachments": {},
      "cell_type": "markdown",
      "id": "ad4343b9",
      "metadata": {},
      "source": [
        "## *Model Deployment*"
      ]
    },
    {
      "cell_type": "code",
      "execution_count": 496,
      "id": "db4bbe90",
      "metadata": {},
      "outputs": [],
      "source": [
        "## A function that creates pickle files of the models for deployment purposes\n",
        "# Inputs:       models - a list of models\n",
        "#               mod_names - a list of models\n",
        "#               vectorizer - countvectorizer \n",
        "#               test_tweets - a list of tweets to test the performance of the models           \n",
        "def deployment(models, mod_names, vectorizer, tokenizer):\n",
        "    for model in models:\n",
        "        # pickling model\n",
        "        i = models.index(model)\n",
        "        address = 'app/models/'+ mod_names[i] + '.pkl'\n",
        "        pickle.dump(model, open(address, 'wb'))\n",
        "    #pickling vectorizer\n",
        "    pickle.dump(vectorizer, open('app/models/vectorizer.pkl', 'wb'))\n",
        "    #pickling tokenizer\n",
        "    pickle.dump(tokenizer, open('app/models/tokenizer.pkl', 'wb'))"
      ]
    },
    {
      "cell_type": "code",
      "execution_count": 497,
      "id": "02f4a134",
      "metadata": {},
      "outputs": [],
      "source": [
        "models = [rf, lr, dtc, ada, model_lstm]\n",
        "mod_names = ['Random_Forest_Classifier',\n",
        "            'Logistic_Regression_Classifier',\n",
        "            'Decision_Tree_Classifier',\n",
        "            'AdaBoost_Classifier',\n",
        "            'LSTM']"
      ]
    },
    {
      "cell_type": "code",
      "execution_count": 498,
      "id": "977a0474",
      "metadata": {},
      "outputs": [
        {
          "name": "stdout",
          "output_type": "stream",
          "text": [
            "Keras weights file (<HDF5 file \"variables.h5\" (mode r+)>) saving:\n",
            "...layers\\dense\n",
            "......vars\n",
            ".........0\n",
            ".........1\n",
            "...layers\\dense_1\n",
            "......vars\n",
            ".........0\n",
            ".........1\n",
            "...layers\\dropout\n",
            "......vars\n",
            "...layers\\embedding\n",
            "......vars\n",
            ".........0\n",
            "...layers\\lstm\n",
            "......vars\n",
            "...layers\\lstm\\cell\n",
            "......vars\n",
            ".........0\n",
            ".........1\n",
            ".........2\n",
            "...layers\\spatial_dropout1d\n",
            "......vars\n",
            "...metrics\\mean\n",
            "......vars\n",
            ".........0\n",
            ".........1\n",
            "...metrics\\mean_metric_wrapper\n",
            "......vars\n",
            ".........0\n",
            ".........1\n",
            "...optimizer\n",
            "......vars\n",
            ".........0\n",
            ".........1\n",
            ".........10\n",
            ".........11\n",
            ".........12\n",
            ".........13\n",
            ".........14\n",
            ".........15\n",
            ".........16\n",
            ".........2\n",
            ".........3\n",
            ".........4\n",
            ".........5\n",
            ".........6\n",
            ".........7\n",
            ".........8\n",
            ".........9\n",
            "...vars\n",
            "Keras model archive saving:\n",
            "File Name                                             Modified             Size\n",
            "config.json                                    2023-02-27 03:42:51         3349\n",
            "metadata.json                                  2023-02-27 03:42:51           64\n",
            "variables.h5                                   2023-02-27 03:42:51     17850712\n"
          ]
        }
      ],
      "source": [
        "# deployment\n",
        "deployment(models, mod_names, vectorizer, tokenizer)"
      ]
    }
  ],
  "metadata": {
    "colab": {
      "provenance": []
    },
    "kernelspec": {
      "display_name": "Python 3",
      "language": "python",
      "name": "python3"
    },
    "language_info": {
      "codemirror_mode": {
        "name": "ipython",
        "version": 3
      },
      "file_extension": ".py",
      "mimetype": "text/x-python",
      "name": "python",
      "nbconvert_exporter": "python",
      "pygments_lexer": "ipython3",
      "version": "3.10.10"
    },
    "vscode": {
      "interpreter": {
        "hash": "95d3caa551a8b4358b186b93fbfeac2b19d5004c1df92bbbf54d118721088f56"
      }
    }
  },
  "nbformat": 4,
  "nbformat_minor": 5
}
